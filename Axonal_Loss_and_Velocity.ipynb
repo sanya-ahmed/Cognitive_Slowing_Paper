{
 "cells": [
  {
   "cell_type": "code",
   "execution_count": 4,
   "metadata": {},
   "outputs": [
    {
     "data": {
      "application/vdom.v1+json": {
       "attributes": {},
       "tagName": "div"
      },
      "text/html": [
       "\n",
       "                <script>\n",
       "                    if (Jupyter.version.split(\".\")[0] < 5) {\n",
       "                        var pb = document.getElementById(\"7347fe4b-aab9-4947-9835-f825a48cc9dd\");\n",
       "                        var text = document.createTextNode(\n",
       "                            \"HMTL progress bar requires Jupyter Notebook >= \" +\n",
       "                            \"5.0 or Jupyter Lab. Alternatively, you can use \" +\n",
       "                            \"TerminalProgressBar().\");\n",
       "                        pb.parentNode.insertBefore(text, pb);\n",
       "                    }\n",
       "                </script>\n",
       "                <div id=\"7347fe4b-aab9-4947-9835-f825a48cc9dd\" style=\"\n",
       "                    width: 100%;\n",
       "                    border: 1px solid #cfcfcf;\n",
       "                    border-radius: 4px;\n",
       "                    text-align: center;\n",
       "                    position: relative;\">\n",
       "                  <div class=\"pb-text\" style=\"\n",
       "                      position: absolute;\n",
       "                      width: 100%;\">\n",
       "                    0%\n",
       "                  </div>\n",
       "                  <div class=\"pb-fill\" style=\"\n",
       "                      background-color: #bdd2e6;\n",
       "                      width: 0%;\">\n",
       "                    <style type=\"text/css\" scoped=\"scoped\">\n",
       "                        @keyframes pb-fill-anim {\n",
       "                            0% { background-position: 0 0; }\n",
       "                            100% { background-position: 100px 0; }\n",
       "                        }\n",
       "                    </style>\n",
       "                    &nbsp;\n",
       "                  </div>\n",
       "                </div>"
      ],
      "text/plain": [
       "HtmlProgressBar cannot be displayed. Please use the TerminalProgressBar. It can be enabled with `nengo.rc['progress']['progress_bar'] = 'nengo.utils.progress.TerminalProgressBar'`."
      ]
     },
     "metadata": {},
     "output_type": "display_data"
    },
    {
     "data": {
      "application/vdom.v1+json": {
       "attributes": {
        "id": "6cb8617c-ca32-4396-a5b0-732b6ae72ecc",
        "style": {
         "border": "1px solid #cfcfcf",
         "borderRadius": "4px",
         "boxSizing": "border-box",
         "position": "relative",
         "textAlign": "center",
         "width": "100%"
        }
       },
       "children": [
        {
         "attributes": {
          "class": "pb-text",
          "style": {
           "position": "absolute",
           "width": "100%"
          }
         },
         "children": [
          "Build finished in 0:00:02."
         ],
         "tagName": "div"
        },
        {
         "attributes": {
          "class": "pb-fill",
          "style": {
           "animation": "none",
           "backgroundColor": "#bdd2e6",
           "backgroundImage": "none",
           "backgroundSize": "100px 100%",
           "width": "100%"
          }
         },
         "children": [
          {
           "attributes": {
            "scoped": "scoped",
            "type": "text/css"
           },
           "children": [
            "\n                        @keyframes pb-fill-anim {\n                            0% { background-position: 0 0; }\n                            100% { background-position: 100px 0; }\n                        }}"
           ],
           "tagName": "style"
          },
          " "
         ],
         "tagName": "div"
        }
       ],
       "tagName": "div"
      },
      "text/html": [
       "<script>\n",
       "              (function () {\n",
       "                  var root = document.getElementById('7347fe4b-aab9-4947-9835-f825a48cc9dd');\n",
       "                  var text = root.getElementsByClassName('pb-text')[0];\n",
       "                  var fill = root.getElementsByClassName('pb-fill')[0];\n",
       "\n",
       "                  text.innerHTML = 'Build finished in 0:00:02.';\n",
       "                  \n",
       "            fill.style.width = '100%';\n",
       "            fill.style.animation = 'pb-fill-anim 2s linear infinite';\n",
       "            fill.style.backgroundSize = '100px 100%';\n",
       "            fill.style.backgroundImage = 'repeating-linear-gradient(' +\n",
       "                '90deg, #bdd2e6, #edf2f8 40%, #bdd2e6 80%, #bdd2e6)';\n",
       "        \n",
       "                  \n",
       "                fill.style.animation = 'none';\n",
       "                fill.style.backgroundImage = 'none';\n",
       "            \n",
       "              })();\n",
       "        </script>"
      ]
     },
     "metadata": {},
     "output_type": "display_data"
    },
    {
     "data": {
      "application/vdom.v1+json": {
       "attributes": {},
       "tagName": "div"
      },
      "text/html": [
       "\n",
       "                <script>\n",
       "                    if (Jupyter.version.split(\".\")[0] < 5) {\n",
       "                        var pb = document.getElementById(\"71e22b2f-b76d-4b94-8b1e-d0fb3e00df12\");\n",
       "                        var text = document.createTextNode(\n",
       "                            \"HMTL progress bar requires Jupyter Notebook >= \" +\n",
       "                            \"5.0 or Jupyter Lab. Alternatively, you can use \" +\n",
       "                            \"TerminalProgressBar().\");\n",
       "                        pb.parentNode.insertBefore(text, pb);\n",
       "                    }\n",
       "                </script>\n",
       "                <div id=\"71e22b2f-b76d-4b94-8b1e-d0fb3e00df12\" style=\"\n",
       "                    width: 100%;\n",
       "                    border: 1px solid #cfcfcf;\n",
       "                    border-radius: 4px;\n",
       "                    text-align: center;\n",
       "                    position: relative;\">\n",
       "                  <div class=\"pb-text\" style=\"\n",
       "                      position: absolute;\n",
       "                      width: 100%;\">\n",
       "                    0%\n",
       "                  </div>\n",
       "                  <div class=\"pb-fill\" style=\"\n",
       "                      background-color: #bdd2e6;\n",
       "                      width: 0%;\">\n",
       "                    <style type=\"text/css\" scoped=\"scoped\">\n",
       "                        @keyframes pb-fill-anim {\n",
       "                            0% { background-position: 0 0; }\n",
       "                            100% { background-position: 100px 0; }\n",
       "                        }\n",
       "                    </style>\n",
       "                    &nbsp;\n",
       "                  </div>\n",
       "                </div>"
      ],
      "text/plain": [
       "HtmlProgressBar cannot be displayed. Please use the TerminalProgressBar. It can be enabled with `nengo.rc['progress']['progress_bar'] = 'nengo.utils.progress.TerminalProgressBar'`."
      ]
     },
     "metadata": {},
     "output_type": "display_data"
    },
    {
     "data": {
      "application/vdom.v1+json": {
       "attributes": {
        "id": "cc23abb1-c5c7-4aad-8c95-6336431c73c1",
        "style": {
         "border": "1px solid #cfcfcf",
         "borderRadius": "4px",
         "boxSizing": "border-box",
         "position": "relative",
         "textAlign": "center",
         "width": "100%"
        }
       },
       "children": [
        {
         "attributes": {
          "class": "pb-text",
          "style": {
           "position": "absolute",
           "width": "100%"
          }
         },
         "children": [
          "Simulation finished in 0:00:05."
         ],
         "tagName": "div"
        },
        {
         "attributes": {
          "class": "pb-fill",
          "style": {
           "animation": "none",
           "backgroundColor": "#bdd2e6",
           "backgroundImage": "none",
           "transition": "width 0.1s linear",
           "width": "100%"
          }
         },
         "children": [
          {
           "attributes": {
            "scoped": "scoped",
            "type": "text/css"
           },
           "children": [
            "\n                        @keyframes pb-fill-anim {\n                            0% { background-position: 0 0; }\n                            100% { background-position: 100px 0; }\n                        }}"
           ],
           "tagName": "style"
          },
          " "
         ],
         "tagName": "div"
        }
       ],
       "tagName": "div"
      },
      "text/html": [
       "<script>\n",
       "              (function () {\n",
       "                  var root = document.getElementById('71e22b2f-b76d-4b94-8b1e-d0fb3e00df12');\n",
       "                  var text = root.getElementsByClassName('pb-text')[0];\n",
       "                  var fill = root.getElementsByClassName('pb-fill')[0];\n",
       "\n",
       "                  text.innerHTML = 'Simulation finished in 0:00:05.';\n",
       "                  \n",
       "            if (100.0 > 0.) {\n",
       "                fill.style.transition = 'width 0.1s linear';\n",
       "            } else {\n",
       "                fill.style.transition = 'none';\n",
       "            }\n",
       "\n",
       "            fill.style.width = '100.0%';\n",
       "            fill.style.animation = 'none';\n",
       "            fill.style.backgroundImage = 'none'\n",
       "        \n",
       "                  \n",
       "                fill.style.animation = 'none';\n",
       "                fill.style.backgroundImage = 'none';\n",
       "            \n",
       "              })();\n",
       "        </script>"
      ]
     },
     "metadata": {},
     "output_type": "display_data"
    },
    {
     "data": {
      "application/vdom.v1+json": {
       "attributes": {},
       "tagName": "div"
      },
      "text/html": [
       "\n",
       "                <script>\n",
       "                    if (Jupyter.version.split(\".\")[0] < 5) {\n",
       "                        var pb = document.getElementById(\"a8b81a30-fcb6-4b59-ac9f-85094e480c40\");\n",
       "                        var text = document.createTextNode(\n",
       "                            \"HMTL progress bar requires Jupyter Notebook >= \" +\n",
       "                            \"5.0 or Jupyter Lab. Alternatively, you can use \" +\n",
       "                            \"TerminalProgressBar().\");\n",
       "                        pb.parentNode.insertBefore(text, pb);\n",
       "                    }\n",
       "                </script>\n",
       "                <div id=\"a8b81a30-fcb6-4b59-ac9f-85094e480c40\" style=\"\n",
       "                    width: 100%;\n",
       "                    border: 1px solid #cfcfcf;\n",
       "                    border-radius: 4px;\n",
       "                    text-align: center;\n",
       "                    position: relative;\">\n",
       "                  <div class=\"pb-text\" style=\"\n",
       "                      position: absolute;\n",
       "                      width: 100%;\">\n",
       "                    0%\n",
       "                  </div>\n",
       "                  <div class=\"pb-fill\" style=\"\n",
       "                      background-color: #bdd2e6;\n",
       "                      width: 0%;\">\n",
       "                    <style type=\"text/css\" scoped=\"scoped\">\n",
       "                        @keyframes pb-fill-anim {\n",
       "                            0% { background-position: 0 0; }\n",
       "                            100% { background-position: 100px 0; }\n",
       "                        }\n",
       "                    </style>\n",
       "                    &nbsp;\n",
       "                  </div>\n",
       "                </div>"
      ],
      "text/plain": [
       "HtmlProgressBar cannot be displayed. Please use the TerminalProgressBar. It can be enabled with `nengo.rc['progress']['progress_bar'] = 'nengo.utils.progress.TerminalProgressBar'`."
      ]
     },
     "metadata": {},
     "output_type": "display_data"
    },
    {
     "data": {
      "application/vdom.v1+json": {
       "attributes": {
        "id": "97e200d6-9f60-49b2-ab39-9b39b681580a",
        "style": {
         "border": "1px solid #cfcfcf",
         "borderRadius": "4px",
         "boxSizing": "border-box",
         "position": "relative",
         "textAlign": "center",
         "width": "100%"
        }
       },
       "children": [
        {
         "attributes": {
          "class": "pb-text",
          "style": {
           "position": "absolute",
           "width": "100%"
          }
         },
         "children": [
          "Build finished in 0:00:02."
         ],
         "tagName": "div"
        },
        {
         "attributes": {
          "class": "pb-fill",
          "style": {
           "animation": "none",
           "backgroundColor": "#bdd2e6",
           "backgroundImage": "none",
           "backgroundSize": "100px 100%",
           "width": "100%"
          }
         },
         "children": [
          {
           "attributes": {
            "scoped": "scoped",
            "type": "text/css"
           },
           "children": [
            "\n                        @keyframes pb-fill-anim {\n                            0% { background-position: 0 0; }\n                            100% { background-position: 100px 0; }\n                        }}"
           ],
           "tagName": "style"
          },
          " "
         ],
         "tagName": "div"
        }
       ],
       "tagName": "div"
      },
      "text/html": [
       "<script>\n",
       "              (function () {\n",
       "                  var root = document.getElementById('a8b81a30-fcb6-4b59-ac9f-85094e480c40');\n",
       "                  var text = root.getElementsByClassName('pb-text')[0];\n",
       "                  var fill = root.getElementsByClassName('pb-fill')[0];\n",
       "\n",
       "                  text.innerHTML = 'Build finished in 0:00:02.';\n",
       "                  \n",
       "            fill.style.width = '100%';\n",
       "            fill.style.animation = 'pb-fill-anim 2s linear infinite';\n",
       "            fill.style.backgroundSize = '100px 100%';\n",
       "            fill.style.backgroundImage = 'repeating-linear-gradient(' +\n",
       "                '90deg, #bdd2e6, #edf2f8 40%, #bdd2e6 80%, #bdd2e6)';\n",
       "        \n",
       "                  \n",
       "                fill.style.animation = 'none';\n",
       "                fill.style.backgroundImage = 'none';\n",
       "            \n",
       "              })();\n",
       "        </script>"
      ]
     },
     "metadata": {},
     "output_type": "display_data"
    },
    {
     "data": {
      "application/vdom.v1+json": {
       "attributes": {},
       "tagName": "div"
      },
      "text/html": [
       "\n",
       "                <script>\n",
       "                    if (Jupyter.version.split(\".\")[0] < 5) {\n",
       "                        var pb = document.getElementById(\"9cd21c9f-152c-4a2d-b594-9512bcbece53\");\n",
       "                        var text = document.createTextNode(\n",
       "                            \"HMTL progress bar requires Jupyter Notebook >= \" +\n",
       "                            \"5.0 or Jupyter Lab. Alternatively, you can use \" +\n",
       "                            \"TerminalProgressBar().\");\n",
       "                        pb.parentNode.insertBefore(text, pb);\n",
       "                    }\n",
       "                </script>\n",
       "                <div id=\"9cd21c9f-152c-4a2d-b594-9512bcbece53\" style=\"\n",
       "                    width: 100%;\n",
       "                    border: 1px solid #cfcfcf;\n",
       "                    border-radius: 4px;\n",
       "                    text-align: center;\n",
       "                    position: relative;\">\n",
       "                  <div class=\"pb-text\" style=\"\n",
       "                      position: absolute;\n",
       "                      width: 100%;\">\n",
       "                    0%\n",
       "                  </div>\n",
       "                  <div class=\"pb-fill\" style=\"\n",
       "                      background-color: #bdd2e6;\n",
       "                      width: 0%;\">\n",
       "                    <style type=\"text/css\" scoped=\"scoped\">\n",
       "                        @keyframes pb-fill-anim {\n",
       "                            0% { background-position: 0 0; }\n",
       "                            100% { background-position: 100px 0; }\n",
       "                        }\n",
       "                    </style>\n",
       "                    &nbsp;\n",
       "                  </div>\n",
       "                </div>"
      ],
      "text/plain": [
       "HtmlProgressBar cannot be displayed. Please use the TerminalProgressBar. It can be enabled with `nengo.rc['progress']['progress_bar'] = 'nengo.utils.progress.TerminalProgressBar'`."
      ]
     },
     "metadata": {},
     "output_type": "display_data"
    },
    {
     "data": {
      "application/vdom.v1+json": {
       "attributes": {
        "id": "c638131b-305b-4f13-889e-6927a05bc8ae",
        "style": {
         "border": "1px solid #cfcfcf",
         "borderRadius": "4px",
         "boxSizing": "border-box",
         "position": "relative",
         "textAlign": "center",
         "width": "100%"
        }
       },
       "children": [
        {
         "attributes": {
          "class": "pb-text",
          "style": {
           "position": "absolute",
           "width": "100%"
          }
         },
         "children": [
          "Simulation finished in 0:00:05."
         ],
         "tagName": "div"
        },
        {
         "attributes": {
          "class": "pb-fill",
          "style": {
           "animation": "none",
           "backgroundColor": "#bdd2e6",
           "backgroundImage": "none",
           "transition": "width 0.1s linear",
           "width": "100%"
          }
         },
         "children": [
          {
           "attributes": {
            "scoped": "scoped",
            "type": "text/css"
           },
           "children": [
            "\n                        @keyframes pb-fill-anim {\n                            0% { background-position: 0 0; }\n                            100% { background-position: 100px 0; }\n                        }}"
           ],
           "tagName": "style"
          },
          " "
         ],
         "tagName": "div"
        }
       ],
       "tagName": "div"
      },
      "text/html": [
       "<script>\n",
       "              (function () {\n",
       "                  var root = document.getElementById('9cd21c9f-152c-4a2d-b594-9512bcbece53');\n",
       "                  var text = root.getElementsByClassName('pb-text')[0];\n",
       "                  var fill = root.getElementsByClassName('pb-fill')[0];\n",
       "\n",
       "                  text.innerHTML = 'Simulation finished in 0:00:05.';\n",
       "                  \n",
       "            if (100.0 > 0.) {\n",
       "                fill.style.transition = 'width 0.1s linear';\n",
       "            } else {\n",
       "                fill.style.transition = 'none';\n",
       "            }\n",
       "\n",
       "            fill.style.width = '100.0%';\n",
       "            fill.style.animation = 'none';\n",
       "            fill.style.backgroundImage = 'none'\n",
       "        \n",
       "                  \n",
       "                fill.style.animation = 'none';\n",
       "                fill.style.backgroundImage = 'none';\n",
       "            \n",
       "              })();\n",
       "        </script>"
      ]
     },
     "metadata": {},
     "output_type": "display_data"
    },
    {
     "name": "stdout",
     "output_type": "stream",
     "text": [
      "[155, 164, 164, 167, 179]\n"
     ]
    },
    {
     "data": {
      "text/plain": [
       "<Figure size 432x288 with 0 Axes>"
      ]
     },
     "metadata": {},
     "output_type": "display_data"
    },
    {
     "data": {
      "image/png": "[encoded data removed]",
      "text/plain": [
       "<Figure size 432x288 with 1 Axes>"
      ]
     },
     "metadata": {
      "needs_background": "light"
     },
     "output_type": "display_data"
    }
   ],
   "source": [
    "import nengo\n",
    "import nengo_spa as spa\n",
    "import matplotlib.pyplot as plt\n",
    "# with and without seed\n",
    "import numpy as np\n",
    "#import random as rnd\n",
    "import pickle\n",
    "import time\n",
    "timestr = time.strftime(\"%Y%m%d-%H%M%S\")\n",
    "d = 128  # the dimensionality of the vectors\n",
    "# note dimension\n",
    "base_line = 0.002 #40 m/s\n",
    "quick_delay = 0.002 \n",
    "slow_delay = 0.002\n",
    "very_slow_delay = 0.002\n",
    "extremely_slow_delay = 0.002\n",
    "\n",
    "#subtract_baseline\n",
    "base_line = 0.000\n",
    "quick_delay = .000\n",
    "slow_delay = 0.000\n",
    "very_slow_delay = .000\n",
    "time_interval = 1.0\n",
    "extremely_slow_delay = .000\n",
    "#\n",
    "wait =  0.0\n",
    "feedback_synapse = 0.1\n",
    "feedback = 0.99\n",
    "percent_base_line = 1  # really fraction ...\n",
    "percent_quick_delay = 0.8\n",
    "percent_slow = 0.6\n",
    "percent_very_slow = 0.4\n",
    "percent_extremely_slow =0.2\n",
    "noise_std = 1e-4\n",
    "i = [1,2,3,4,5]\n",
    "\n",
    "fnumbers = []\n",
    "fnumbers_slow = []\n",
    "fnumbers_very_slow = []\n",
    "fnumbers_quick_delay = []\n",
    "fnumbers_extremely_slow = []\n",
    "    \n",
    "with spa.Network(seed=1) as model:\n",
    "        timer = time_interval + wait\n",
    "        vocab = spa.Vocabulary(d)\n",
    "        vocab.populate('BLUE; RED; GREEN')\n",
    "        GREEN = vocab.parse('GREEN')\n",
    "        RED = vocab.parse('RED')\n",
    "        BLUE = vocab.parse('BLUE')\n",
    "        \n",
    "\n",
    "    #make it feedback[0] as loop is out\n",
    "        Color = spa.State(vocab, feedback = feedback, represent_cc_identity = False)\n",
    "        Color_slow = spa.State(vocab, feedback = feedback, represent_cc_identity = False)\n",
    "        Color_quick_delay = spa.State(vocab, feedback = feedback, represent_cc_identity = False)\n",
    "        Color_extremely_slow = spa.State(vocab, feedback = feedback, represent_cc_identity = False)\n",
    "        Color_very_slow = spa.State(vocab, feedback = feedback, represent_cc_identity = False)\n",
    " \n",
    "        \n",
    "        def input_very_slow(t):\n",
    "                if t <  very_slow_delay:\n",
    "                    return '0'\n",
    "                if t < time_interval + very_slow_delay:\n",
    "                    return BLUE\n",
    "\n",
    "                elif t < timer + very_slow_delay:\n",
    "                    return '0'\n",
    "                elif t < timer + time_interval + very_slow_delay:\n",
    "                    return RED\n",
    "                elif t < 2 * timer + very_slow_delay:\n",
    "                    return '0'\n",
    "                elif t < 2 * timer + time_interval + very_slow_delay:\n",
    "                    return GREEN\n",
    "                elif t < 3 * timer + very_slow_delay:\n",
    "                    return '0'\n",
    "                else:\n",
    "                    return '0'\n",
    "\n",
    "        def input_slow(t):\n",
    "                if t < time_interval + slow_delay:\n",
    "                    return BLUE\n",
    "                elif t < timer + slow_delay:\n",
    "                    return '0'\n",
    "                elif t < timer + time_interval + slow_delay:\n",
    "                    return RED\n",
    "                elif t < 2 * timer + slow_delay:\n",
    "                    return '0'\n",
    "                elif t < 2 * timer + time_interval + slow_delay:\n",
    "                    return GREEN\n",
    "                elif t < 3 * timer + slow_delay:\n",
    "                    return '0'\n",
    "                else:\n",
    "                    return '0'\n",
    "\n",
    "        def input_quick_delay(t):\n",
    "                if t < time_interval + quick_delay:\n",
    "                    return BLUE\n",
    "                elif t < timer + quick_delay:\n",
    "                    return '0'\n",
    "                elif t < timer + time_interval + quick_delay:\n",
    "                    return RED\n",
    "                elif t < 2 * timer + quick_delay:\n",
    "                    return '0'\n",
    "                elif t < 2 * timer + time_interval + quick_delay:\n",
    "                    return GREEN\n",
    "                elif t < 3 * timer + quick_delay:\n",
    "                    return '0'\n",
    "                else:\n",
    "                    return '0'\n",
    "\n",
    "        def input_extremely_slow(t):\n",
    "                if t < time_interval + extremely_slow_delay:\n",
    "                    return BLUE\n",
    "                elif t < timer + extremely_slow_delay:\n",
    "                    return '0'\n",
    "                elif t < timer + time_interval + extremely_slow_delay:\n",
    "                    return RED\n",
    "                elif t < 2 * timer + extremely_slow_delay:\n",
    "                    return '0'\n",
    "                elif t < 2 * timer + time_interval + extremely_slow_delay:\n",
    "                    return GREEN\n",
    "                elif t < 3 * timer + extremely_slow_delay:\n",
    "                    return '0'\n",
    "                else:\n",
    "                    return '0'\n",
    "\n",
    "\n",
    "        def input(t):\n",
    "                if t < time_interval:\n",
    "                    return BLUE\n",
    "                elif t < timer:\n",
    "                    return '0'\n",
    "                elif t < timer + time_interval:\n",
    "                    return RED\n",
    "                elif t < 2 * timer:\n",
    "                    return '0'\n",
    "                elif t < 2 * timer + time_interval:\n",
    "                    return GREEN\n",
    "                elif t < 3 * timer:\n",
    "                    return '0'\n",
    "                else:\n",
    "                    return '0'\n",
    "                \n",
    "        # Multiplpy by proportion\n",
    "        input_transcode = spa.Transcode(input, output_vocab = vocab)\n",
    "        percent_base_line * input_transcode >> Color\n",
    "        input_extremely_slow_transcode = spa.Transcode(input_extremely_slow, output_vocab = vocab)\n",
    "        input_slow_transcode = spa.Transcode(input_slow, output_vocab = vocab)\n",
    "        percent_slow * input_slow_transcode >> Color_slow\n",
    "        input_very_slow_transcode = spa.Transcode(input_very_slow, output_vocab = vocab)\n",
    "        input_quick_delay_transcode = spa.Transcode(input_quick_delay, output_vocab = vocab)\n",
    "        percent_quick_delay * input_quick_delay_transcode >> Color_quick_delay\n",
    "        percent_extremely_slow * input_extremely_slow_transcode >> Color_extremely_slow\n",
    "        input_very_slow_transcode = spa.Transcode(input_very_slow, output_vocab = vocab)\n",
    "        percent_very_slow * input_very_slow_transcode >> Color_very_slow\n",
    "        '''\n",
    "        percent_base* input_transcode + percent_slow * input_slow_transcode + \\\n",
    "          percent_bit_slow * input_quick_delay_transcode + \\\n",
    "          percent_very_slow * input_very_slow_transcode + \\\n",
    "          percent_extremely_slow * input_extremely_slow_transcode >> Color_slow \n",
    "\n",
    "\n",
    "        0.05 * input_transcode >> Color_twenty_percent \n",
    "        '''\n",
    "        probe_Color = nengo.Probe(Color.output, synapse = 0.01) \n",
    "        probe_Color_slow = nengo.Probe(Color_slow.output, synapse = 0.01)\n",
    "        probe_Color_slow = nengo.Probe(Color_slow.output, synapse = 0.01)\n",
    "        probe_Color_very_slow = nengo.Probe(Color_very_slow.output, synapse = 0.01)\n",
    "\n",
    "        probe_Color_quick_delay = nengo.Probe(Color_quick_delay.output, synapse = 0.01)\n",
    "        probe_Color_extremely_slow = nengo.Probe(Color_extremely_slow.output, synapse = 0.01)\n",
    "\n",
    "        with nengo.Simulator(model) as sim:  # Create the simulator\n",
    "\n",
    "\n",
    "            sim.run(timer * 1.5)  \n",
    "\n",
    "        numbers  = spa.similarity(sim.data[probe_Color], vocab, normalize = True)\n",
    "        numbers_slow  = spa.similarity(sim.data[probe_Color_slow], vocab, normalize = True)\n",
    "        numbers_very_slow  = spa.similarity(sim.data[probe_Color_very_slow], vocab, normalize = True)\n",
    "        numbers_quick_delay  = spa.similarity(sim.data[probe_Color_quick_delay], vocab, normalize = True)\n",
    "        numbers_extremely_slow  = spa.similarity(sim.data[probe_Color_extremely_slow], vocab, normalize = True)\n",
    "\n",
    "\n",
    "        pickle.dump(numbers, open(\"data_Oct14\", \"wb\"))\n",
    "        graph_Oct14 = pickle.load(open(\"data_Oct14\", \"rb\"))        \n",
    "\n",
    "        pickle.dump(numbers_slow, open(\"data_Oct14_slow\", \"wb\"))\n",
    "        graph_Oct14_slow = pickle.load(open(\"data_Oct14_slow\", \"rb\"))   \n",
    "\n",
    "        pickle.dump(numbers_quick_delay, open(\"data_Oct14_quick_delay\", \"wb\"))\n",
    "        graph_Oct14_quick_delay = pickle.load(open(\"data_Oct14_quick_delay\", \"rb\"))        \n",
    "\n",
    "        pickle.dump(numbers_extremely_slow, open(\"data_Oct14_extremely_slow\", \"wb\"))\n",
    "        graph_Oct14_extremely_slow = pickle.load(open(\"data_Oct14_extremely_slow\", \"rb\"))        \n",
    "\n",
    "        pickle.dump(numbers_very_slow, open(\"data_Oct14_very_slow\", \"wb\"))\n",
    "        graph_Oct14_very_slow = pickle.load(open(\"data_Oct14_very_slow\", \"rb\")) \n",
    "\n",
    "        \n",
    "        plt.figure()\n",
    "        pt_8_L = [0,0.8]\n",
    "        pt_8_R = [8, 0.8]\n",
    "        x_seg = [pt_8_L[0],pt_8_R[0]]\n",
    "        y_seg = [pt_8_L[1],pt_8_R[1]]\n",
    "    \n",
    "    # Get values where data crosses threshold at different loss percents\n",
    "        value = 0.8\n",
    "        absolute_val_array = np.abs(graph_Oct14[:,1] - value)\n",
    "        smallest_difference_index = absolute_val_array.argmin()\n",
    "        closest_element = smallest_difference_index - 1000 #stimulus presented at 1 sec, subtract 1 sec\n",
    "        BasePoint = closest_element\n",
    "        \n",
    "        absolute_val_array = np.abs(graph_Oct14_quick_delay[:,1] - value)\n",
    "        smallest_difference_index = absolute_val_array.argmin()\n",
    "        closest_element = smallest_difference_index - 1000 #stimulus presented at 1 sec, subtract 1 sec\n",
    "        QuickPoint = closest_element   \n",
    "        \n",
    "        absolute_val_array = np.abs(graph_Oct14_slow[:,1] - value)\n",
    "        smallest_difference_index = absolute_val_array.argmin()\n",
    "        closest_element = smallest_difference_index - 1000 #stimulus presented at 1 sec, subtract 1 sec\n",
    "        SlowPoint = closest_element\n",
    "        \n",
    "        absolute_val_array = np.abs(graph_Oct14_very_slow[:,1] - value)\n",
    "        smallest_difference_index = absolute_val_array.argmin()\n",
    "        closest_element = smallest_difference_index - 1000 #stimulus presented at 1 sec, subtract 1 sec\n",
    "        VerySlowPoint = closest_element\n",
    "        \n",
    "        absolute_val_array = np.abs(graph_Oct14_extremely_slow[:,1] - value)\n",
    "        smallest_difference_index = absolute_val_array.argmin()\n",
    "        closest_element = smallest_difference_index - 1000 #stimulus presented at 1 sec, subtract 1 sec\n",
    "        ExSlowPoint = closest_element\n",
    "        \n",
    "        # Plot\n",
    "        Points = [BasePoint, QuickPoint, SlowPoint, VerySlowPoint, ExSlowPoint]\n",
    "        xvals = [0,0.2,0.4,0.6,0.8]\n",
    "        plt.figure()\n",
    "        plt.scatter(xvals,Points)\n",
    "        \n",
    "# Plot Conduction Velocity ----------------------------------------------        \n",
    "# note dimension \n",
    "base_line = 0.002 #40 m/s\n",
    "quick_delay = 0.0025 #32 m/s - 20% loss\n",
    "slow_delay = 0.00333 #24 m/s - 40% loss\n",
    "very_slow_delay = 0.005 #16 m/s - 60% loss\n",
    "extremely_slow_delay = 0.01 #8 m/s - 80% loss\n",
    "\n",
    "#subtract_baseline\n",
    "base_line = 0.000\n",
    "quick_delay = .0005\n",
    "slow_delay = 0.00133\n",
    "very_slow_delay = .003\n",
    "time_interval = 1.0 \n",
    "extremely_slow_delay = .008\n",
    "#\n",
    "wait =  0.0\n",
    "feedback_synapse = 0.1\n",
    "feedback = 0.99\n",
    "percent_base_line = 1\n",
    "percent_quick_delay = 1\n",
    "percent_slow = 1\n",
    "percent_very_slow = 1\n",
    "percent_extremely_slow =1\n",
    "noise_std = 1e-4\n",
    "\n",
    "with spa.Network(seed = 1) as model:\n",
    "        #noise = nengo.Node(nengo.processes.WhiteNoise(nengo.dists.Gaussian (0,noise_std)), size_out = d)\n",
    "        #new_noise = nengo.processes.WhiteNoise(nengo.dists.Gaussian (0,noise_std))\n",
    "        #new_numb = rnd.random()\n",
    "        #print(new_numb)\n",
    "        timer = time_interval + wait\n",
    "        vocab = spa.Vocabulary(d)\n",
    "        vocab.populate('BLUE; RED; GREEN')\n",
    "        GREEN = vocab.parse('GREEN')\n",
    "        RED = vocab.parse('RED')\n",
    "        BLUE = vocab.parse('BLUE')\n",
    "\n",
    "    #make it feedback[0] as loop is out\n",
    "        Color = spa.State(vocab, feedback = feedback, represent_cc_identity = False)\n",
    "        Color_slow = spa.State(vocab, feedback = feedback, represent_cc_identity = False)\n",
    "        Color_quick_delay = spa.State(vocab, feedback = feedback, represent_cc_identity = False)\n",
    "        Color_extremely_slow = spa.State(vocab, feedback = feedback, represent_cc_identity = False)\n",
    "        Color_very_slow = spa.State(vocab, feedback = feedback, represent_cc_identity = False)\n",
    "        #Color_twenty_percent =  spa.State(vocab, feedback = feedback, represent_cc_identity = False)\n",
    " \n",
    "        \n",
    "\n",
    "        \n",
    "        def input_very_slow(t):\n",
    "                if t <  very_slow_delay:\n",
    "                    return '0'\n",
    "                if t < time_interval + very_slow_delay:\n",
    "                    return BLUE\n",
    "                \n",
    "                elif t < timer + very_slow_delay:\n",
    "                    return '0'\n",
    "                elif t < timer + time_interval + very_slow_delay:\n",
    "                    return RED\n",
    "                elif t < 2 * timer + very_slow_delay:\n",
    "                    return '0'\n",
    "                elif t < 2 * timer + time_interval + very_slow_delay:\n",
    "                    return GREEN\n",
    "                elif t < 3 * timer + very_slow_delay:\n",
    "                    return '0'\n",
    "                else:\n",
    "                    return '0'\n",
    "        \n",
    "        def input_slow(t):\n",
    "                if t < time_interval + slow_delay:\n",
    "                    return BLUE\n",
    "                elif t < timer + slow_delay:\n",
    "                    return '0'\n",
    "                elif t < timer + time_interval + slow_delay:\n",
    "                    return RED\n",
    "                elif t < 2 * timer + slow_delay:\n",
    "                    return '0'\n",
    "                elif t < 2 * timer + time_interval + slow_delay:\n",
    "                    return GREEN\n",
    "                elif t < 3 * timer + slow_delay:\n",
    "                    return '0'\n",
    "                else:\n",
    "                    return '0'\n",
    "        \n",
    "        def input_quick_delay(t):\n",
    "                if t < time_interval + quick_delay:\n",
    "                    return BLUE\n",
    "                elif t < timer + quick_delay:\n",
    "                    return '0'\n",
    "                elif t < timer + time_interval + quick_delay:\n",
    "                    return RED\n",
    "                elif t < 2 * timer + quick_delay:\n",
    "                    return '0'\n",
    "                elif t < 2 * timer + time_interval + quick_delay:\n",
    "                    return GREEN\n",
    "                elif t < 3 * timer + quick_delay:\n",
    "                    return '0'\n",
    "                else:\n",
    "                    return '0'\n",
    "        \n",
    "        def input_extremely_slow(t):\n",
    "                if t < time_interval + extremely_slow_delay:\n",
    "                    return BLUE\n",
    "                elif t < timer + extremely_slow_delay:\n",
    "                    return '0'\n",
    "                elif t < timer + time_interval + extremely_slow_delay:\n",
    "                    return RED\n",
    "                elif t < 2 * timer + extremely_slow_delay:\n",
    "                    return '0'\n",
    "                elif t < 2 * timer + time_interval + extremely_slow_delay:\n",
    "                    return GREEN\n",
    "                elif t < 3 * timer + extremely_slow_delay:\n",
    "                    return '0'\n",
    "                else:\n",
    "                    return '0'\n",
    "        \n",
    "        \n",
    "        def input(t):\n",
    "                if t < time_interval:\n",
    "                    return BLUE\n",
    "                elif t < timer:\n",
    "                    return '0'\n",
    "                elif t < timer + time_interval:\n",
    "                    return RED\n",
    "                elif t < 2 * timer:\n",
    "                    return '0'\n",
    "                elif t < 2 * timer + time_interval:\n",
    "                    return GREEN\n",
    "                elif t < 3 * timer:\n",
    "                    return '0'\n",
    "                else:\n",
    "                    return '0'\n",
    "        input_transcode = spa.Transcode(input, output_vocab = vocab)\n",
    "        percent_base_line * input_transcode >> Color\n",
    "        input_extremely_slow_transcode = spa.Transcode(input_extremely_slow, output_vocab = vocab)\n",
    "        input_slow_transcode = spa.Transcode(input_slow, output_vocab = vocab)\n",
    "        percent_slow * input_slow_transcode >> Color_slow\n",
    "        input_very_slow_transcode = spa.Transcode(input_very_slow, output_vocab = vocab)\n",
    "        input_quick_delay_transcode = spa.Transcode(input_quick_delay, output_vocab = vocab)\n",
    "        percent_quick_delay * input_quick_delay_transcode >> Color_quick_delay\n",
    "        percent_extremely_slow * input_extremely_slow_transcode >> Color_extremely_slow\n",
    "        input_very_slow_transcode = spa.Transcode(input_very_slow, output_vocab = vocab)\n",
    "        percent_very_slow * input_very_slow_transcode >> Color_very_slow\n",
    "        '''\n",
    "        percent_base* input_transcode + percent_slow * input_slow_transcode + \\\n",
    "          percent_bit_slow * input_quick_delay_transcode + \\\n",
    "          percent_very_slow * input_very_slow_transcode + \\\n",
    "          percent_extremely_slow * input_extremely_slow_transcode >> Color_slow \n",
    "        \n",
    "       \n",
    "        0.05 * input_transcode >> Color_twenty_percent \n",
    "        '''\n",
    "        probe_Color = nengo.Probe(Color.output, synapse = 0.01) \n",
    "        \n",
    "        \n",
    "        probe_Color_slow = nengo.Probe(Color_slow.output, synapse = 0.01)\n",
    "        probe_Color_slow = nengo.Probe(Color_slow.output, synapse = 0.01)\n",
    "        probe_Color_very_slow = nengo.Probe(Color_very_slow.output, synapse = 0.01)\n",
    "        \n",
    "        probe_Color_quick_delay = nengo.Probe(Color_quick_delay.output, synapse = 0.01)\n",
    "        probe_Color_extremely_slow = nengo.Probe(Color_extremely_slow.output, synapse = 0.01)\n",
    "        \n",
    "        #probe_Color_twenty_percent = nengo.Probe(Color_twenty_percent.output, synapse = 0.01) \n",
    "        \n",
    "        with nengo.Simulator(model) as sim:  # Create the simulator\n",
    "               \n",
    "               \n",
    "            sim.run(timer*1.5)  \n",
    "        \n",
    "        numbers  = spa.similarity(sim.data[probe_Color], vocab, normalize = True)\n",
    "        \n",
    "        numbers_slow  = spa.similarity(sim.data[probe_Color_slow], vocab, normalize = True)\n",
    "        numbers_very_slow  = spa.similarity(sim.data[probe_Color_very_slow], vocab, normalize = True)\n",
    "        numbers_quick_delay  = spa.similarity(sim.data[probe_Color_quick_delay], vocab, normalize = True)\n",
    "        \n",
    "        numbers_extremely_slow  = spa.similarity(sim.data[probe_Color_extremely_slow], vocab, normalize = True)\n",
    "        #numbers_twenty_percent = spa.similarity(sim.data[probe_Color_twenty_percent], vocab, normalize = True)\n",
    "           \n",
    "        \n",
    "                 \n",
    "        pickle.dump(numbers, open(\"data_Oct14\", \"wb\"))\n",
    "        graph_Oct14 = pickle.load(open(\"data_Oct14\", \"rb\"))        \n",
    "        \n",
    "        pickle.dump(numbers_slow, open(\"data_Oct14_slow\", \"wb\"))\n",
    "        graph_Oct14_slow = pickle.load(open(\"data_Oct14_slow\", \"rb\"))   \n",
    "        \n",
    "        pickle.dump(numbers_quick_delay, open(\"data_Oct14_quick_delay\", \"wb\"))\n",
    "        graph_Oct14_quick_delay = pickle.load(open(\"data_Oct14_quick_delay\", \"rb\"))        \n",
    "        \n",
    "        pickle.dump(numbers_extremely_slow, open(\"data_Oct14_extremely_slow\", \"wb\"))\n",
    "        graph_Oct14_extremely_slow = pickle.load(open(\"data_Oct14_extremely_slow\", \"rb\"))        \n",
    "        \n",
    "        pickle.dump(numbers_very_slow, open(\"data_Oct14_very_slow\", \"wb\"))\n",
    "        graph_Oct14_very_slow = pickle.load(open(\"data_Oct14_very_slow\", \"rb\"))        \n",
    "        \n",
    "        value = 0.8\n",
    "        absolute_val_array = np.abs(graph_Oct14[:,1] - value)\n",
    "        smallest_difference_index = absolute_val_array.argmin()\n",
    "        closest_element = smallest_difference_index - 1000 #stimulus presented at 1 sec, subtract 1 sec\n",
    "        BasePoint = closest_element\n",
    "        \n",
    "        absolute_val_array = np.abs(graph_Oct14_quick_delay[:,1] - value)\n",
    "        smallest_difference_index = absolute_val_array.argmin()\n",
    "        closest_element = smallest_difference_index - 1000 #stimulus presented at 1 sec, subtract 1 sec\n",
    "        QuickPoint = closest_element   \n",
    "        \n",
    "        absolute_val_array = np.abs(graph_Oct14_slow[:,1] - value)\n",
    "        smallest_difference_index = absolute_val_array.argmin()\n",
    "        closest_element = smallest_difference_index - 1000 #stimulus presented at 1 sec, subtract 1 sec\n",
    "        SlowPoint = closest_element\n",
    "        \n",
    "        absolute_val_array = np.abs(graph_Oct14_very_slow[:,1] - value)\n",
    "        smallest_difference_index = absolute_val_array.argmin()\n",
    "        closest_element = smallest_difference_index - 1000 #stimulus presented at 1 sec, subtract 1 sec\n",
    "        VerySlowPoint = closest_element\n",
    "        \n",
    "        absolute_val_array = np.abs(graph_Oct14_extremely_slow[:,1] - value)\n",
    "        smallest_difference_index = absolute_val_array.argmin()\n",
    "        closest_element = smallest_difference_index - 1000 #stimulus presented at 1 sec, subtract 1 sec\n",
    "        ExSlowPoint = closest_element\n",
    "        \n",
    "        # Plot\n",
    "        Points = [BasePoint, QuickPoint, SlowPoint, VerySlowPoint, ExSlowPoint]\n",
    "        print(Points)\n",
    "        plt.scatter(xvals,Points, marker='D')   \n",
    "        plt.xlabel(\"Proportion Loss\")\n",
    "        plt.legend(['Axonal Loss', 'Conduction Velocity Loss'], loc='center left', bbox_to_anchor=(1, 0.5))\n",
    "        plt.ylabel(\"RT (ms)\")                   \n",
    "           "
   ]
  },
  {
   "cell_type": "markdown",
   "metadata": {},
   "source": []
  },
  {
   "cell_type": "code",
   "execution_count": null,
   "metadata": {},
   "outputs": [],
   "source": []
  }
 ],
 "metadata": {
  "kernelspec": {
   "display_name": "Python 3",
   "language": "python",
   "name": "python3"
  },
  "language_info": {
   "codemirror_mode": {
    "name": "ipython",
    "version": 3
   },
   "file_extension": ".py",
   "mimetype": "text/x-python",
   "name": "python",
   "nbconvert_exporter": "python",
   "pygments_lexer": "ipython3",
   "version": "3.8.8"
  }
 },
 "nbformat": 4,
 "nbformat_minor": 2
}
