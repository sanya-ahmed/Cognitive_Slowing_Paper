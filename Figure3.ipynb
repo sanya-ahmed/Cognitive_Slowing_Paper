{
 "cells": [
  {
   "cell_type": "code",
   "execution_count": 5,
   "metadata": {},
   "outputs": [
    {
     "data": {
      "application/vdom.v1+json": {
       "attributes": {},
       "tagName": "div"
      },
      "text/html": [
       "\n",
       "                <script>\n",
       "                    if (Jupyter.version.split(\".\")[0] < 5) {\n",
       "                        var pb = document.getElementById(\"b0192088-19a2-4b82-8b5c-d0eb3bdd9dcd\");\n",
       "                        var text = document.createTextNode(\n",
       "                            \"HMTL progress bar requires Jupyter Notebook >= \" +\n",
       "                            \"5.0 or Jupyter Lab. Alternatively, you can use \" +\n",
       "                            \"TerminalProgressBar().\");\n",
       "                        pb.parentNode.insertBefore(text, pb);\n",
       "                    }\n",
       "                </script>\n",
       "                <div id=\"b0192088-19a2-4b82-8b5c-d0eb3bdd9dcd\" style=\"\n",
       "                    width: 100%;\n",
       "                    border: 1px solid #cfcfcf;\n",
       "                    border-radius: 4px;\n",
       "                    text-align: center;\n",
       "                    position: relative;\">\n",
       "                  <div class=\"pb-text\" style=\"\n",
       "                      position: absolute;\n",
       "                      width: 100%;\">\n",
       "                    0%\n",
       "                  </div>\n",
       "                  <div class=\"pb-fill\" style=\"\n",
       "                      background-color: #bdd2e6;\n",
       "                      width: 0%;\">\n",
       "                    <style type=\"text/css\" scoped=\"scoped\">\n",
       "                        @keyframes pb-fill-anim {\n",
       "                            0% { background-position: 0 0; }\n",
       "                            100% { background-position: 100px 0; }\n",
       "                        }\n",
       "                    </style>\n",
       "                    &nbsp;\n",
       "                  </div>\n",
       "                </div>"
      ],
      "text/plain": [
       "HtmlProgressBar cannot be displayed. Please use the TerminalProgressBar. It can be enabled with `nengo.rc['progress']['progress_bar'] = 'nengo.utils.progress.TerminalProgressBar'`."
      ]
     },
     "metadata": {},
     "output_type": "display_data"
    },
    {
     "data": {
      "application/vdom.v1+json": {
       "attributes": {
        "id": "0184e4ce-be5a-45fc-bd08-1d0f18a149f8",
        "style": {
         "border": "1px solid #cfcfcf",
         "borderRadius": "4px",
         "boxSizing": "border-box",
         "position": "relative",
         "textAlign": "center",
         "width": "100%"
        }
       },
       "children": [
        {
         "attributes": {
          "class": "pb-text",
          "style": {
           "position": "absolute",
           "width": "100%"
          }
         },
         "children": [
          "Build finished in 0:00:04."
         ],
         "tagName": "div"
        },
        {
         "attributes": {
          "class": "pb-fill",
          "style": {
           "animation": "none",
           "backgroundColor": "#bdd2e6",
           "backgroundImage": "none",
           "backgroundSize": "100px 100%",
           "width": "100%"
          }
         },
         "children": [
          {
           "attributes": {
            "scoped": "scoped",
            "type": "text/css"
           },
           "children": [
            "\n                        @keyframes pb-fill-anim {\n                            0% { background-position: 0 0; }\n                            100% { background-position: 100px 0; }\n                        }}"
           ],
           "tagName": "style"
          },
          " "
         ],
         "tagName": "div"
        }
       ],
       "tagName": "div"
      },
      "text/html": [
       "<script>\n",
       "              (function () {\n",
       "                  var root = document.getElementById('b0192088-19a2-4b82-8b5c-d0eb3bdd9dcd');\n",
       "                  var text = root.getElementsByClassName('pb-text')[0];\n",
       "                  var fill = root.getElementsByClassName('pb-fill')[0];\n",
       "\n",
       "                  text.innerHTML = 'Build finished in 0:00:04.';\n",
       "                  \n",
       "            fill.style.width = '100%';\n",
       "            fill.style.animation = 'pb-fill-anim 2s linear infinite';\n",
       "            fill.style.backgroundSize = '100px 100%';\n",
       "            fill.style.backgroundImage = 'repeating-linear-gradient(' +\n",
       "                '90deg, #bdd2e6, #edf2f8 40%, #bdd2e6 80%, #bdd2e6)';\n",
       "        \n",
       "                  \n",
       "                fill.style.animation = 'none';\n",
       "                fill.style.backgroundImage = 'none';\n",
       "            \n",
       "              })();\n",
       "        </script>"
      ]
     },
     "metadata": {},
     "output_type": "display_data"
    },
    {
     "data": {
      "application/vdom.v1+json": {
       "attributes": {},
       "tagName": "div"
      },
      "text/html": [
       "\n",
       "                <script>\n",
       "                    if (Jupyter.version.split(\".\")[0] < 5) {\n",
       "                        var pb = document.getElementById(\"a6ac8204-d567-465e-a46a-2981422279ec\");\n",
       "                        var text = document.createTextNode(\n",
       "                            \"HMTL progress bar requires Jupyter Notebook >= \" +\n",
       "                            \"5.0 or Jupyter Lab. Alternatively, you can use \" +\n",
       "                            \"TerminalProgressBar().\");\n",
       "                        pb.parentNode.insertBefore(text, pb);\n",
       "                    }\n",
       "                </script>\n",
       "                <div id=\"a6ac8204-d567-465e-a46a-2981422279ec\" style=\"\n",
       "                    width: 100%;\n",
       "                    border: 1px solid #cfcfcf;\n",
       "                    border-radius: 4px;\n",
       "                    text-align: center;\n",
       "                    position: relative;\">\n",
       "                  <div class=\"pb-text\" style=\"\n",
       "                      position: absolute;\n",
       "                      width: 100%;\">\n",
       "                    0%\n",
       "                  </div>\n",
       "                  <div class=\"pb-fill\" style=\"\n",
       "                      background-color: #bdd2e6;\n",
       "                      width: 0%;\">\n",
       "                    <style type=\"text/css\" scoped=\"scoped\">\n",
       "                        @keyframes pb-fill-anim {\n",
       "                            0% { background-position: 0 0; }\n",
       "                            100% { background-position: 100px 0; }\n",
       "                        }\n",
       "                    </style>\n",
       "                    &nbsp;\n",
       "                  </div>\n",
       "                </div>"
      ],
      "text/plain": [
       "HtmlProgressBar cannot be displayed. Please use the TerminalProgressBar. It can be enabled with `nengo.rc['progress']['progress_bar'] = 'nengo.utils.progress.TerminalProgressBar'`."
      ]
     },
     "metadata": {},
     "output_type": "display_data"
    },
    {
     "data": {
      "application/vdom.v1+json": {
       "attributes": {
        "id": "d50c0aec-c421-4109-85d4-a73be713d0b3",
        "style": {
         "border": "1px solid #cfcfcf",
         "borderRadius": "4px",
         "boxSizing": "border-box",
         "position": "relative",
         "textAlign": "center",
         "width": "100%"
        }
       },
       "children": [
        {
         "attributes": {
          "class": "pb-text",
          "style": {
           "position": "absolute",
           "width": "100%"
          }
         },
         "children": [
          "Simulation finished in 0:00:12."
         ],
         "tagName": "div"
        },
        {
         "attributes": {
          "class": "pb-fill",
          "style": {
           "animation": "none",
           "backgroundColor": "#bdd2e6",
           "backgroundImage": "none",
           "transition": "width 0.1s linear",
           "width": "100%"
          }
         },
         "children": [
          {
           "attributes": {
            "scoped": "scoped",
            "type": "text/css"
           },
           "children": [
            "\n                        @keyframes pb-fill-anim {\n                            0% { background-position: 0 0; }\n                            100% { background-position: 100px 0; }\n                        }}"
           ],
           "tagName": "style"
          },
          " "
         ],
         "tagName": "div"
        }
       ],
       "tagName": "div"
      },
      "text/html": [
       "<script>\n",
       "              (function () {\n",
       "                  var root = document.getElementById('a6ac8204-d567-465e-a46a-2981422279ec');\n",
       "                  var text = root.getElementsByClassName('pb-text')[0];\n",
       "                  var fill = root.getElementsByClassName('pb-fill')[0];\n",
       "\n",
       "                  text.innerHTML = 'Simulation finished in 0:00:12.';\n",
       "                  \n",
       "            if (100.0 > 0.) {\n",
       "                fill.style.transition = 'width 0.1s linear';\n",
       "            } else {\n",
       "                fill.style.transition = 'none';\n",
       "            }\n",
       "\n",
       "            fill.style.width = '100.0%';\n",
       "            fill.style.animation = 'none';\n",
       "            fill.style.backgroundImage = 'none'\n",
       "        \n",
       "                  \n",
       "                fill.style.animation = 'none';\n",
       "                fill.style.backgroundImage = 'none';\n",
       "            \n",
       "              })();\n",
       "        </script>"
      ]
     },
     "metadata": {},
     "output_type": "display_data"
    },
    {
     "data": {
      "image/png": "[encoded data removed]",
      "text/plain": [
       "<Figure size 432x252 with 1 Axes>"
      ]
     },
     "metadata": {
      "needs_background": "light"
     },
     "output_type": "display_data"
    },
    {
     "data": {
      "image/png": "[encoded data removed]",
      "text/plain": [
       "<Figure size 432x252 with 1 Axes>"
      ]
     },
     "metadata": {
      "needs_background": "light"
     },
     "output_type": "display_data"
    }
   ],
   "source": [
    "import nengo\n",
    "import nengo_spa as spa\n",
    "import matplotlib.pyplot as plt\n",
    "%matplotlib inline\n",
    "# with and without seed\n",
    "import numpy as np\n",
    "import random\n",
    "import pickle\n",
    "import time\n",
    "from nengo.utils.matplotlib import rasterplot\n",
    "from nengo_extras.plot_spikes import (\n",
    "    cluster, merge, plot_spikes, preprocess_spikes, sample_by_variance)\n",
    "#\n",
    "#nonsense = input('you may want to check xmin and xmax - hit return')\n",
    "xmin = 0\n",
    "xmax = 3\n",
    "#run_time = input('Input run time\\n')\n",
    "#run_time = float(run_time)\n",
    "\n",
    "timestr = time.strftime(\"%Y%m%d-%H%M%S\")\n",
    "d = 128  # the dimensionality of the vectors\n",
    "# note dimension\n",
    "bit_slow_delay = 0.004\n",
    "slow_delay = 0.008\n",
    "very_slow_delay = 0.017\n",
    "extremely_slow_delay = 0.035\n",
    "time_interval = 1.0\n",
    "time_interval = float(time_interval)\n",
    "wait =  0.0\n",
    "feedback_synapse = 0.1\n",
    "feedback = 0.99\n",
    "percent_base = 1.0\n",
    "percent_bit_slow = 0.0\n",
    "percent_slow = 0.0\n",
    "percent_very_slow = 0.0\n",
    "percent_extremely_slow = 0.0\n",
    "\n",
    "\n",
    "with spa.Network(seed = 1) as model:\n",
    "        \n",
    "        timer = time_interval + wait\n",
    "        vocab = spa.Vocabulary(d)\n",
    "        vocab.populate('BLUE; RED; GREEN')\n",
    "        GREEN = vocab.parse('GREEN')\n",
    "        RED = vocab.parse('RED')\n",
    "        BLUE = vocab.parse('BLUE')\n",
    "\n",
    "    #make it feedback[0] as loop is out\n",
    "        Color = spa.State(vocab, subdimensions = 1, seed = 1, feedback = feedback, represent_cc_identity = False)\n",
    "        Color_slow = spa.State(vocab, feedback = feedback, represent_cc_identity = False)\n",
    "\n",
    "        \n",
    "\n",
    "        \n",
    "        def input_very_slow(t):\n",
    "                if t < time_interval + very_slow_delay:\n",
    "                    return BLUE\n",
    "                elif t < timer + very_slow_delay:\n",
    "                    return '0'\n",
    "                elif t < timer + time_interval + very_slow_delay:\n",
    "                    return RED\n",
    "                elif t < 2 * timer + very_slow_delay:\n",
    "                    return '0'\n",
    "                elif t < 2 * timer + time_interval + very_slow_delay:\n",
    "                    return GREEN\n",
    "                elif t < 3 * timer + very_slow_delay:\n",
    "                    return '0'\n",
    "                else:\n",
    "                    return '0'\n",
    "        def input_slow(t):\n",
    "                if t < time_interval + slow_delay:\n",
    "                    return BLUE\n",
    "                elif t < timer + slow_delay:\n",
    "                    return '0'\n",
    "                elif t < timer + time_interval + slow_delay:\n",
    "                    return RED\n",
    "                elif t < 2 * timer + slow_delay:\n",
    "                    return '0'\n",
    "                elif t < 2 * timer + time_interval + slow_delay:\n",
    "                    return GREEN\n",
    "                elif t < 3 * timer + slow_delay:\n",
    "                    return '0'\n",
    "                else:\n",
    "                    return '0'\n",
    "        def input_bit_slow(t):\n",
    "                if t < time_interval + bit_slow_delay:\n",
    "                    return BLUE\n",
    "                elif t < timer + bit_slow_delay:\n",
    "                    return '0'\n",
    "                elif t < timer + time_interval + bit_slow_delay:\n",
    "                    return RED\n",
    "                elif t < 2 * timer + bit_slow_delay:\n",
    "                    return '0'\n",
    "                elif t < 2 * timer + time_interval + bit_slow_delay:\n",
    "                    return GREEN\n",
    "                elif t < 3 * timer + bit_slow_delay:\n",
    "                    return '0'\n",
    "                else:\n",
    "                    return '0'\n",
    "\n",
    "        def input_extremely_slow(t):\n",
    "                if t < time_interval + extremely_slow_delay:\n",
    "                    return BLUE\n",
    "                elif t < timer + extremely_slow_delay:\n",
    "                    return '0'\n",
    "                elif t < timer + time_interval + extremely_slow_delay:\n",
    "                    return RED\n",
    "                elif t < 2 * timer + extremely_slow_delay:\n",
    "                    return '0'\n",
    "                elif t < 2 * timer + time_interval + extremely_slow_delay:\n",
    "                    return GREEN\n",
    "                elif t < 3 * timer + extremely_slow_delay:\n",
    "                    return '0'\n",
    "                else:\n",
    "                    return '0'\n",
    "        def input(t):\n",
    "                if t < time_interval:\n",
    "                    return BLUE\n",
    "                elif t < timer:\n",
    "                    return '0'\n",
    "                elif t < timer + time_interval:\n",
    "                    return RED\n",
    "                elif t < 2 * timer:\n",
    "                    return '0'\n",
    "                elif t < 2 * timer + time_interval:\n",
    "                    return GREEN\n",
    "                elif t < 3 * timer:\n",
    "                    return '0'\n",
    "                else:\n",
    "                    return '0'\n",
    "        input_transcode = spa.Transcode(input, output_vocab = vocab)\n",
    "        input_transcode >> Color\n",
    "        input_extremely_slow_transcode = spa.Transcode(input_extremely_slow, output_vocab = vocab)\n",
    "        input_slow_transcode = spa.Transcode(input_slow, output_vocab = vocab)\n",
    "        input_very_slow_transcode = spa.Transcode(input_very_slow, output_vocab = vocab)\n",
    "        input_bit_slow_transcode = spa.Transcode(input_bit_slow, output_vocab = vocab)\n",
    "        percent_base* input_transcode + percent_slow * input_slow_transcode + \\\n",
    "          percent_bit_slow * input_bit_slow_transcode + \\\n",
    "          percent_very_slow * input_very_slow_transcode + \\\n",
    "          percent_extremely_slow * input_extremely_slow_transcode >> Color_slow \n",
    "          \n",
    "        probe_Color = nengo.Probe(Color.output, synapse = 0.01) \n",
    "        probe_Color_slow = nengo.Probe(Color_slow.output, synapse = 0.01) \n",
    "         \n",
    "    #Probe for model outputs as new spikes    \n",
    "        new_spikes_0 = nengo.Probe(Color.all_ensembles[0].neurons, 'output', seed = 1, synapse = 0.01)\n",
    "        new_spikes_1 = nengo.Probe(Color.all_ensembles[1].neurons, 'output', synapse = 0.01)\n",
    "        new_spikes_2 = nengo.Probe(Color.all_ensembles[2].neurons, 'output', synapse = 0.01)\n",
    "        new_spikes_3 = nengo.Probe(Color.all_ensembles[3].neurons, 'output', synapse = 0.01)\n",
    "        new_spikes_4 = nengo.Probe(Color.all_ensembles[4].neurons, 'output', synapse = 0.01)\n",
    "        new_spikes_5 = nengo.Probe(Color.all_ensembles[5].neurons, 'output', synapse = 0.01)\n",
    "        \n",
    "        with nengo.Simulator(model) as sim:  # Create the simulator\n",
    "               \n",
    "               \n",
    "            sim.run(timer * 3)  \n",
    "       \n",
    "    #Dot Products\n",
    "        numbers  = spa.similarity(sim.data[probe_Color], vocab, normalize = True)\n",
    "        numbers_slow  = spa.similarity(sim.data[probe_Color_slow], vocab, normalize = True)\n",
    "                \n",
    "        numbers_array = np.asarray(numbers)   \n",
    "        numbers_slow_array = np.asarray(numbers_slow)   \n",
    "        \n",
    "        \n",
    "        pickle.dump(numbers, open(\"data_Ja18_fb1_0pause\", \"wb\"))\n",
    "        graph_Ja17 = pickle.load(open(\"data_Ja18_fb1_0pause\", \"rb\"))        \n",
    "\n",
    "  #Plot the outputs      \n",
    "        plt.figure(figsize = [6, 3.5])\n",
    "        plt.plot(sim.trange(),sim.data[probe_Color][:,127], color='black', linestyle='-.')\n",
    "        plt.plot(sim.trange(),sim.data[probe_Color][:,0], color='black', linestyle='solid')\n",
    "        plt.plot(sim.trange(),sim.data[probe_Color][:,10], color='black', linestyle='dashed')\n",
    "        plt.plot(sim.trange(),sim.data[probe_Color][:,20], color='black', linestyle='dotted')\n",
    "        plt.title(\"Figure 3a -  4 out of 128 elements\" )\n",
    "        plt.xlabel('Time [s]')\n",
    "        plt.ylabel(\"Value\")\n",
    "        plt.savefig('Figure3a_S_JL29.png')\n",
    "        \n",
    "        #Plot dot product\n",
    "        \n",
    "        plt.figure(figsize = [6,3.5])\n",
    "        plt.plot(sim.trange(), numbers[:,0], label = 'blue', color='blue')\n",
    "        plt.plot(sim.trange(), numbers[:,1], label = 'red', color='red')\n",
    "        plt.plot(sim.trange(), numbers[:,2], label = 'green', color='green')\n",
    "        plt.legend(loc='right');\n",
    "        plt.xlabel (\"Time [s]\")\n",
    "        plt.ylabel(\"Dot Product\")\n",
    "        plt.title('Figure 3b - Dot Products ')\n",
    "        plt.savefig('Figure3b_S_JL29.png')\n",
    "        \n",
    "        \n",
    "        "
   ]
  },
  {
   "cell_type": "code",
   "execution_count": null,
   "metadata": {},
   "outputs": [],
   "source": []
  },
  {
   "cell_type": "code",
   "execution_count": null,
   "metadata": {},
   "outputs": [],
   "source": []
  },
  {
   "cell_type": "code",
   "execution_count": null,
   "metadata": {},
   "outputs": [],
   "source": []
  },
  {
   "cell_type": "code",
   "execution_count": null,
   "metadata": {},
   "outputs": [],
   "source": []
  },
  {
   "cell_type": "code",
   "execution_count": null,
   "metadata": {},
   "outputs": [],
   "source": []
  }
 ],
 "metadata": {
  "kernelspec": {
   "display_name": "Python 3",
   "language": "python",
   "name": "python3"
  },
  "language_info": {
   "codemirror_mode": {
    "name": "ipython",
    "version": 3
   },
   "file_extension": ".py",
   "mimetype": "text/x-python",
   "name": "python",
   "nbconvert_exporter": "python",
   "pygments_lexer": "ipython3",
   "version": "3.8.8"
  }
 },
 "nbformat": 4,
 "nbformat_minor": 2
}
